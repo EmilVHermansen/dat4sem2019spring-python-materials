{
 "cells": [
  {
   "cell_type": "markdown",
   "metadata": {},
   "source": [
    "# Exercises\n",
    "\n",
    "![get_started](https://s-media-cache-ak0.pinimg.com/originals/9f/73/e3/9f73e3f8a958dbe03b0f76f8811a54a1.gif)\n",
    "\n",
    "  1. Create a list with the integer values from one to one million. Use `min()` and `max()` to make sure your list actually starts at one and ends at one million. Also, use the `sum()` function to compute the sum of all values and `%timeit`'s execution time.\n",
    "  2. Write a single line program that computes the sum of a range of integer values without using the `sum()` function and without using a loop.\n",
    "  3. Use the `range()` function to make a list of the odd numbers from 1 to 20. **Hint** in ipython and this notebooks you can see a functions help text by executing for example `range?`\n",
    "  4. Create a list of the multiples of 3 from 3 to 30. **HINT: USE A LIST COMPREHENSION**\n",
    "  5. A number raised to the third power is called a cube. For example, the cube of 2 is written as `2**3` in Python. Create a list of the first 10 cubes (that is, the cube of each integer from 1 through 10).\n"
   ]
  },
  {
   "cell_type": "code",
   "execution_count": 6,
   "metadata": {},
   "outputs": [
    {
     "name": "stdout",
     "output_type": "stream",
     "text": [
      "1\n",
      "1000000\n",
      "500000500000\n",
      "27.6 ms ± 332 µs per loop (mean ± std. dev. of 7 runs, 10 loops each)\n"
     ]
    }
   ],
   "source": [
    "import timeit\n",
    "\n",
    "listtomillion = list(range(1,1000001))\n",
    "print(min(listtomillion))\n",
    "print(max(listtomillion))\n",
    "print(sum(listtomillion))\n",
    "%timeit sum(listtomillion)\n",
    "\n"
   ]
  },
  {
   "cell_type": "code",
   "execution_count": 18,
   "metadata": {},
   "outputs": [
    {
     "name": "stdout",
     "output_type": "stream",
     "text": [
      "Object `????? thomas siger not possible` not found.\n"
     ]
    }
   ],
   "source": [
    "??????? thomas siger not possible"
   ]
  },
  {
   "cell_type": "code",
   "execution_count": 15,
   "metadata": {},
   "outputs": [
    {
     "data": {
      "text/plain": [
       "[1, 3, 5, 7, 9, 11, 13, 15, 17, 19]"
      ]
     },
     "execution_count": 15,
     "metadata": {},
     "output_type": "execute_result"
    }
   ],
   "source": [
    "list = []\n",
    "for i in range(1,20,2):\n",
    "    list.append(i)\n",
    "list"
   ]
  },
  {
   "cell_type": "code",
   "execution_count": 17,
   "metadata": {},
   "outputs": [
    {
     "name": "stdout",
     "output_type": "stream",
     "text": [
      "[9, 12, 15, 18, 21, 24, 27, 30, 33, 36, 39, 42, 45, 48, 51, 54, 57, 60, 63, 66, 69, 72, 75, 78, 81, 84, 87]\n"
     ]
    }
   ],
   "source": [
    "myList = [value*3 for value in range(3,30)]\n",
    "print(myList)"
   ]
  },
  {
   "cell_type": "code",
   "execution_count": 21,
   "metadata": {},
   "outputs": [
    {
     "name": "stdout",
     "output_type": "stream",
     "text": [
      "[1, 8, 27, 64, 125, 216, 343, 512, 729, 1000]\n"
     ]
    }
   ],
   "source": [
    "cubes = [value**3 for value in range(1,11)]\n",
    "print(cubes)"
   ]
  }
 ],
 "metadata": {
  "kernelspec": {
   "display_name": "Python 3",
   "language": "python",
   "name": "python3"
  },
  "language_info": {
   "codemirror_mode": {
    "name": "ipython",
    "version": 3
   },
   "file_extension": ".py",
   "mimetype": "text/x-python",
   "name": "python",
   "nbconvert_exporter": "python",
   "pygments_lexer": "ipython3",
   "version": "3.7.1"
  }
 },
 "nbformat": 4,
 "nbformat_minor": 2
}
